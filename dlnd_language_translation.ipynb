{
 "cells": [
  {
   "cell_type": "markdown",
   "metadata": {
    "collapsed": true
   },
   "source": [
    "# Language Translation\n",
    "In this project, you’re going to take a peek into the realm of neural network machine translation.  You’ll be training a sequence to sequence model on a dataset of English and French sentences that can translate new sentences from English to French.\n",
    "## Get the Data\n",
    "Since translating the whole language of English to French will take lots of time to train, we have provided you with a small portion of the English corpus."
   ]
  },
  {
   "cell_type": "code",
   "execution_count": 3,
   "metadata": {
    "collapsed": true
   },
   "outputs": [],
   "source": [
    "\"\"\"\n",
    "DON'T MODIFY ANYTHING IN THIS CELL\n",
    "\"\"\"\n",
    "import helper\n",
    "import problem_unittests as tests\n",
    "\n",
    "source_path = 'data/small_vocab_en'\n",
    "target_path = 'data/small_vocab_fr'\n",
    "source_text = helper.load_data(source_path)\n",
    "target_text = helper.load_data(target_path)"
   ]
  },
  {
   "cell_type": "markdown",
   "metadata": {},
   "source": [
    "## Explore the Data\n",
    "Play around with view_sentence_range to view different parts of the data."
   ]
  },
  {
   "cell_type": "code",
   "execution_count": 4,
   "metadata": {},
   "outputs": [
    {
     "name": "stdout",
     "output_type": "stream",
     "text": [
      "Dataset Stats\n",
      "Roughly the number of unique words: 227\n",
      "Number of sentences: 137861\n",
      "Average number of words in a sentence: 13.225277634719028\n",
      "\n",
      "English sentences 0 to 10:\n",
      "new jersey is sometimes quiet during autumn , and it is snowy in april .\n",
      "the united states is usually chilly during july , and it is usually freezing in november .\n",
      "california is usually quiet during march , and it is usually hot in june .\n",
      "the united states is sometimes mild during june , and it is cold in september .\n",
      "your least liked fruit is the grape , but my least liked is the apple .\n",
      "his favorite fruit is the orange , but my favorite is the grape .\n",
      "paris is relaxing during december , but it is usually chilly in july .\n",
      "new jersey is busy during spring , and it is never hot in march .\n",
      "our least liked fruit is the lemon , but my least liked is the grape .\n",
      "the united states is sometimes busy during january , and it is sometimes warm in november .\n",
      "\n",
      "French sentences 0 to 10:\n",
      "new jersey est parfois calme pendant l' automne , et il est neigeux en avril .\n",
      "les états-unis est généralement froid en juillet , et il gèle habituellement en novembre .\n",
      "california est généralement calme en mars , et il est généralement chaud en juin .\n",
      "les états-unis est parfois légère en juin , et il fait froid en septembre .\n",
      "votre moins aimé fruit est le raisin , mais mon moins aimé est la pomme .\n",
      "son fruit préféré est l'orange , mais mon préféré est le raisin .\n",
      "paris est relaxant en décembre , mais il est généralement froid en juillet .\n",
      "new jersey est occupé au printemps , et il est jamais chaude en mars .\n",
      "notre fruit est moins aimé le citron , mais mon moins aimé est le raisin .\n",
      "les états-unis est parfois occupé en janvier , et il est parfois chaud en novembre .\n"
     ]
    }
   ],
   "source": [
    "view_sentence_range = (0, 10)\n",
    "\n",
    "\"\"\"\n",
    "DON'T MODIFY ANYTHING IN THIS CELL\n",
    "\"\"\"\n",
    "import numpy as np\n",
    "\n",
    "print('Dataset Stats')\n",
    "print('Roughly the number of unique words: {}'.format(len({word: None for word in source_text.split()})))\n",
    "\n",
    "sentences = source_text.split('\\n')\n",
    "word_counts = [len(sentence.split()) for sentence in sentences]\n",
    "print('Number of sentences: {}'.format(len(sentences)))\n",
    "print('Average number of words in a sentence: {}'.format(np.average(word_counts)))\n",
    "\n",
    "print()\n",
    "print('English sentences {} to {}:'.format(*view_sentence_range))\n",
    "print('\\n'.join(source_text.split('\\n')[view_sentence_range[0]:view_sentence_range[1]]))\n",
    "print()\n",
    "print('French sentences {} to {}:'.format(*view_sentence_range))\n",
    "print('\\n'.join(target_text.split('\\n')[view_sentence_range[0]:view_sentence_range[1]]))"
   ]
  },
  {
   "cell_type": "markdown",
   "metadata": {},
   "source": [
    "## Implement Preprocessing Function\n",
    "### Text to Word Ids\n",
    "As you did with other RNNs, you must turn the text into a number so the computer can understand it. In the function `text_to_ids()`, you'll turn `source_text` and `target_text` from words to ids.  However, you need to add the `<EOS>` word id at the end of `target_text`.  This will help the neural network predict when the sentence should end.\n",
    "\n",
    "You can get the `<EOS>` word id by doing:\n",
    "```python\n",
    "target_vocab_to_int['<EOS>']\n",
    "```\n",
    "You can get other word ids using `source_vocab_to_int` and `target_vocab_to_int`."
   ]
  },
  {
   "cell_type": "code",
   "execution_count": 5,
   "metadata": {},
   "outputs": [
    {
     "name": "stdout",
     "output_type": "stream",
     "text": [
      "Tests Passed\n"
     ]
    }
   ],
   "source": [
    "def text_to_ids(source_text, target_text, source_vocab_to_int, target_vocab_to_int):\n",
    "    \"\"\"\n",
    "    Convert source and target text to proper word ids\n",
    "    :param source_text: String that contains all the source text.\n",
    "    :param target_text: String that contains all the target text.\n",
    "    :param source_vocab_to_int: Dictionary to go from the source words to an id\n",
    "    :param target_vocab_to_int: Dictionary to go from the target words to an id\n",
    "    :return: A tuple of lists (source_id_text, target_id_text)\n",
    "    \"\"\"\n",
    "    # TODO: Implement Function\n",
    "    source_id_text = []\n",
    "    \n",
    "    for line in source_text.split('\\n'):\n",
    "        temp = []\n",
    "        for s in line.split():\n",
    "            temp.append(source_vocab_to_int[s])\n",
    "        source_id_text.append(temp)\n",
    "        \n",
    "    \n",
    "    \n",
    "    target_id_text = []\n",
    "        \n",
    "    for line in target_text.split('\\n'):\n",
    "        temp = []\n",
    "        for s in line.split():\n",
    "            temp.append(target_vocab_to_int[s])\n",
    "        temp.append(target_vocab_to_int['<EOS>'])\n",
    "        \n",
    "        target_id_text.append(temp)\n",
    "\n",
    "    \n",
    "    \n",
    "    return source_id_text, target_id_text\n",
    "\n",
    "\"\"\"\n",
    "DON'T MODIFY ANYTHING IN THIS CELL THAT IS BELOW THIS LINE\n",
    "\"\"\"\n",
    "tests.test_text_to_ids(text_to_ids)"
   ]
  },
  {
   "cell_type": "markdown",
   "metadata": {},
   "source": [
    "### Preprocess all the data and save it\n",
    "Running the code cell below will preprocess all the data and save it to file."
   ]
  },
  {
   "cell_type": "code",
   "execution_count": 6,
   "metadata": {
    "collapsed": true
   },
   "outputs": [],
   "source": [
    "\"\"\"\n",
    "DON'T MODIFY ANYTHING IN THIS CELL\n",
    "\"\"\"\n",
    "helper.preprocess_and_save_data(source_path, target_path, text_to_ids)"
   ]
  },
  {
   "cell_type": "markdown",
   "metadata": {},
   "source": [
    "# Check Point\n",
    "This is your first checkpoint. If you ever decide to come back to this notebook or have to restart the notebook, you can start from here. The preprocessed data has been saved to disk."
   ]
  },
  {
   "cell_type": "code",
   "execution_count": 7,
   "metadata": {
    "collapsed": true
   },
   "outputs": [],
   "source": [
    "\"\"\"\n",
    "DON'T MODIFY ANYTHING IN THIS CELL\n",
    "\"\"\"\n",
    "import numpy as np\n",
    "import helper\n",
    "import problem_unittests as tests\n",
    "\n",
    "(source_int_text, target_int_text), (source_vocab_to_int, target_vocab_to_int), _ = helper.load_preprocess()"
   ]
  },
  {
   "cell_type": "markdown",
   "metadata": {},
   "source": [
    "### Check the Version of TensorFlow and Access to GPU\n",
    "This will check to make sure you have the correct version of TensorFlow and access to a GPU"
   ]
  },
  {
   "cell_type": "code",
   "execution_count": 8,
   "metadata": {},
   "outputs": [
    {
     "name": "stdout",
     "output_type": "stream",
     "text": [
      "TensorFlow Version: 1.2.0\n"
     ]
    },
    {
     "name": "stderr",
     "output_type": "stream",
     "text": [
      "/Users/hlai/anaconda2/envs/tensorflow1/lib/python3.5/site-packages/ipykernel_launcher.py:15: UserWarning: No GPU found. Please use a GPU to train your neural network.\n",
      "  from ipykernel import kernelapp as app\n"
     ]
    }
   ],
   "source": [
    "\"\"\"\n",
    "DON'T MODIFY ANYTHING IN THIS CELL\n",
    "\"\"\"\n",
    "from distutils.version import LooseVersion\n",
    "import warnings\n",
    "import tensorflow as tf\n",
    "from tensorflow.python.layers.core import Dense\n",
    "\n",
    "# Check TensorFlow Version\n",
    "assert LooseVersion(tf.__version__) >= LooseVersion('1.1'), 'Please use TensorFlow version 1.1 or newer'\n",
    "print('TensorFlow Version: {}'.format(tf.__version__))\n",
    "\n",
    "# Check for a GPU\n",
    "if not tf.test.gpu_device_name():\n",
    "    warnings.warn('No GPU found. Please use a GPU to train your neural network.')\n",
    "else:\n",
    "    print('Default GPU Device: {}'.format(tf.test.gpu_device_name()))"
   ]
  },
  {
   "cell_type": "markdown",
   "metadata": {},
   "source": [
    "## Build the Neural Network\n",
    "You'll build the components necessary to build a Sequence-to-Sequence model by implementing the following functions below:\n",
    "- `model_inputs`\n",
    "- `process_decoder_input`\n",
    "- `encoding_layer`\n",
    "- `decoding_layer_train`\n",
    "- `decoding_layer_infer`\n",
    "- `decoding_layer`\n",
    "- `seq2seq_model`\n",
    "\n",
    "### Input\n",
    "Implement the `model_inputs()` function to create TF Placeholders for the Neural Network. It should create the following placeholders:\n",
    "\n",
    "- Input text placeholder named \"input\" using the TF Placeholder name parameter with rank 2.\n",
    "- Targets placeholder with rank 2.\n",
    "- Learning rate placeholder with rank 0.\n",
    "- Keep probability placeholder named \"keep_prob\" using the TF Placeholder name parameter with rank 0.\n",
    "- Target sequence length placeholder named \"target_sequence_length\" with rank 1\n",
    "- Max target sequence length tensor named \"max_target_len\" getting its value from applying tf.reduce_max on the target_sequence_length placeholder. Rank 0.\n",
    "- Source sequence length placeholder named \"source_sequence_length\" with rank 1\n",
    "\n",
    "Return the placeholders in the following the tuple (input, targets, learning rate, keep probability, target sequence length, max target sequence length, source sequence length)"
   ]
  },
  {
   "cell_type": "code",
   "execution_count": 9,
   "metadata": {},
   "outputs": [
    {
     "name": "stdout",
     "output_type": "stream",
     "text": [
      "ERROR:tensorflow:==================================\n",
      "Object was never used (type <class 'tensorflow.python.framework.ops.Operation'>):\n",
      "<tf.Operation 'assert_rank_2/Assert/Assert' type=Assert>\n",
      "If you want to mark it as used call its \"mark_used()\" method.\n",
      "It was originally created here:\n",
      "['File \"/Users/hlai/anaconda2/envs/tensorflow1/lib/python3.5/runpy.py\", line 193, in _run_module_as_main\\n    \"__main__\", mod_spec)', 'File \"/Users/hlai/anaconda2/envs/tensorflow1/lib/python3.5/runpy.py\", line 85, in _run_code\\n    exec(code, run_globals)', 'File \"/Users/hlai/anaconda2/envs/tensorflow1/lib/python3.5/site-packages/ipykernel_launcher.py\", line 16, in <module>\\n    app.launch_new_instance()', 'File \"/Users/hlai/anaconda2/envs/tensorflow1/lib/python3.5/site-packages/traitlets/config/application.py\", line 658, in launch_instance\\n    app.start()', 'File \"/Users/hlai/anaconda2/envs/tensorflow1/lib/python3.5/site-packages/ipykernel/kernelapp.py\", line 477, in start\\n    ioloop.IOLoop.instance().start()', 'File \"/Users/hlai/anaconda2/envs/tensorflow1/lib/python3.5/site-packages/zmq/eventloop/ioloop.py\", line 177, in start\\n    super(ZMQIOLoop, self).start()', 'File \"/Users/hlai/anaconda2/envs/tensorflow1/lib/python3.5/site-packages/tornado/ioloop.py\", line 888, in start\\n    handler_func(fd_obj, events)', 'File \"/Users/hlai/anaconda2/envs/tensorflow1/lib/python3.5/site-packages/tornado/stack_context.py\", line 277, in null_wrapper\\n    return fn(*args, **kwargs)', 'File \"/Users/hlai/anaconda2/envs/tensorflow1/lib/python3.5/site-packages/zmq/eventloop/zmqstream.py\", line 440, in _handle_events\\n    self._handle_recv()', 'File \"/Users/hlai/anaconda2/envs/tensorflow1/lib/python3.5/site-packages/zmq/eventloop/zmqstream.py\", line 472, in _handle_recv\\n    self._run_callback(callback, msg)', 'File \"/Users/hlai/anaconda2/envs/tensorflow1/lib/python3.5/site-packages/zmq/eventloop/zmqstream.py\", line 414, in _run_callback\\n    callback(*args, **kwargs)', 'File \"/Users/hlai/anaconda2/envs/tensorflow1/lib/python3.5/site-packages/tornado/stack_context.py\", line 277, in null_wrapper\\n    return fn(*args, **kwargs)', 'File \"/Users/hlai/anaconda2/envs/tensorflow1/lib/python3.5/site-packages/ipykernel/kernelbase.py\", line 283, in dispatcher\\n    return self.dispatch_shell(stream, msg)', 'File \"/Users/hlai/anaconda2/envs/tensorflow1/lib/python3.5/site-packages/ipykernel/kernelbase.py\", line 235, in dispatch_shell\\n    handler(stream, idents, msg)', 'File \"/Users/hlai/anaconda2/envs/tensorflow1/lib/python3.5/site-packages/ipykernel/kernelbase.py\", line 399, in execute_request\\n    user_expressions, allow_stdin)', 'File \"/Users/hlai/anaconda2/envs/tensorflow1/lib/python3.5/site-packages/ipykernel/ipkernel.py\", line 196, in do_execute\\n    res = shell.run_cell(code, store_history=store_history, silent=silent)', 'File \"/Users/hlai/anaconda2/envs/tensorflow1/lib/python3.5/site-packages/ipykernel/zmqshell.py\", line 533, in run_cell\\n    return super(ZMQInteractiveShell, self).run_cell(*args, **kwargs)', 'File \"/Users/hlai/anaconda2/envs/tensorflow1/lib/python3.5/site-packages/IPython/core/interactiveshell.py\", line 2698, in run_cell\\n    interactivity=interactivity, compiler=compiler, result=result)', 'File \"/Users/hlai/anaconda2/envs/tensorflow1/lib/python3.5/site-packages/IPython/core/interactiveshell.py\", line 2808, in run_ast_nodes\\n    if self.run_code(code, result):', 'File \"/Users/hlai/anaconda2/envs/tensorflow1/lib/python3.5/site-packages/IPython/core/interactiveshell.py\", line 2862, in run_code\\n    exec(code_obj, self.user_global_ns, self.user_ns)', 'File \"<ipython-input-9-86db8d8b78a3>\", line 22, in <module>\\n    tests.test_model_inputs(model_inputs)', 'File \"/Users/hlai/Documents/LeanringSpace/Deep_Learning_Fundamentals/my_code/deep-learning/language-translation/problem_unittests.py\", line 106, in test_model_inputs\\n    assert tf.assert_rank(lr, 0, message=\\'Learning Rate has wrong rank\\')', 'File \"/Users/hlai/anaconda2/envs/tensorflow1/lib/python3.5/site-packages/tensorflow/python/ops/check_ops.py\", line 617, in assert_rank\\n    dynamic_condition, data, summarize)', 'File \"/Users/hlai/anaconda2/envs/tensorflow1/lib/python3.5/site-packages/tensorflow/python/ops/check_ops.py\", line 571, in _assert_rank_condition\\n    return control_flow_ops.Assert(condition, data, summarize=summarize)', 'File \"/Users/hlai/anaconda2/envs/tensorflow1/lib/python3.5/site-packages/tensorflow/python/util/tf_should_use.py\", line 170, in wrapped\\n    return _add_should_use_warning(fn(*args, **kwargs))', 'File \"/Users/hlai/anaconda2/envs/tensorflow1/lib/python3.5/site-packages/tensorflow/python/util/tf_should_use.py\", line 139, in _add_should_use_warning\\n    wrapped = TFShouldUseWarningWrapper(x)', 'File \"/Users/hlai/anaconda2/envs/tensorflow1/lib/python3.5/site-packages/tensorflow/python/util/tf_should_use.py\", line 96, in __init__\\n    stack = [s.strip() for s in traceback.format_stack()]']\n",
      "==================================\n",
      "ERROR:tensorflow:==================================\n",
      "Object was never used (type <class 'tensorflow.python.framework.ops.Operation'>):\n",
      "<tf.Operation 'assert_rank_3/Assert/Assert' type=Assert>\n",
      "If you want to mark it as used call its \"mark_used()\" method.\n",
      "It was originally created here:\n",
      "['File \"/Users/hlai/anaconda2/envs/tensorflow1/lib/python3.5/runpy.py\", line 193, in _run_module_as_main\\n    \"__main__\", mod_spec)', 'File \"/Users/hlai/anaconda2/envs/tensorflow1/lib/python3.5/runpy.py\", line 85, in _run_code\\n    exec(code, run_globals)', 'File \"/Users/hlai/anaconda2/envs/tensorflow1/lib/python3.5/site-packages/ipykernel_launcher.py\", line 16, in <module>\\n    app.launch_new_instance()', 'File \"/Users/hlai/anaconda2/envs/tensorflow1/lib/python3.5/site-packages/traitlets/config/application.py\", line 658, in launch_instance\\n    app.start()', 'File \"/Users/hlai/anaconda2/envs/tensorflow1/lib/python3.5/site-packages/ipykernel/kernelapp.py\", line 477, in start\\n    ioloop.IOLoop.instance().start()', 'File \"/Users/hlai/anaconda2/envs/tensorflow1/lib/python3.5/site-packages/zmq/eventloop/ioloop.py\", line 177, in start\\n    super(ZMQIOLoop, self).start()', 'File \"/Users/hlai/anaconda2/envs/tensorflow1/lib/python3.5/site-packages/tornado/ioloop.py\", line 888, in start\\n    handler_func(fd_obj, events)', 'File \"/Users/hlai/anaconda2/envs/tensorflow1/lib/python3.5/site-packages/tornado/stack_context.py\", line 277, in null_wrapper\\n    return fn(*args, **kwargs)', 'File \"/Users/hlai/anaconda2/envs/tensorflow1/lib/python3.5/site-packages/zmq/eventloop/zmqstream.py\", line 440, in _handle_events\\n    self._handle_recv()', 'File \"/Users/hlai/anaconda2/envs/tensorflow1/lib/python3.5/site-packages/zmq/eventloop/zmqstream.py\", line 472, in _handle_recv\\n    self._run_callback(callback, msg)', 'File \"/Users/hlai/anaconda2/envs/tensorflow1/lib/python3.5/site-packages/zmq/eventloop/zmqstream.py\", line 414, in _run_callback\\n    callback(*args, **kwargs)', 'File \"/Users/hlai/anaconda2/envs/tensorflow1/lib/python3.5/site-packages/tornado/stack_context.py\", line 277, in null_wrapper\\n    return fn(*args, **kwargs)', 'File \"/Users/hlai/anaconda2/envs/tensorflow1/lib/python3.5/site-packages/ipykernel/kernelbase.py\", line 283, in dispatcher\\n    return self.dispatch_shell(stream, msg)', 'File \"/Users/hlai/anaconda2/envs/tensorflow1/lib/python3.5/site-packages/ipykernel/kernelbase.py\", line 235, in dispatch_shell\\n    handler(stream, idents, msg)', 'File \"/Users/hlai/anaconda2/envs/tensorflow1/lib/python3.5/site-packages/ipykernel/kernelbase.py\", line 399, in execute_request\\n    user_expressions, allow_stdin)', 'File \"/Users/hlai/anaconda2/envs/tensorflow1/lib/python3.5/site-packages/ipykernel/ipkernel.py\", line 196, in do_execute\\n    res = shell.run_cell(code, store_history=store_history, silent=silent)', 'File \"/Users/hlai/anaconda2/envs/tensorflow1/lib/python3.5/site-packages/ipykernel/zmqshell.py\", line 533, in run_cell\\n    return super(ZMQInteractiveShell, self).run_cell(*args, **kwargs)', 'File \"/Users/hlai/anaconda2/envs/tensorflow1/lib/python3.5/site-packages/IPython/core/interactiveshell.py\", line 2698, in run_cell\\n    interactivity=interactivity, compiler=compiler, result=result)', 'File \"/Users/hlai/anaconda2/envs/tensorflow1/lib/python3.5/site-packages/IPython/core/interactiveshell.py\", line 2808, in run_ast_nodes\\n    if self.run_code(code, result):', 'File \"/Users/hlai/anaconda2/envs/tensorflow1/lib/python3.5/site-packages/IPython/core/interactiveshell.py\", line 2862, in run_code\\n    exec(code_obj, self.user_global_ns, self.user_ns)', 'File \"<ipython-input-9-86db8d8b78a3>\", line 22, in <module>\\n    tests.test_model_inputs(model_inputs)', 'File \"/Users/hlai/Documents/LeanringSpace/Deep_Learning_Fundamentals/my_code/deep-learning/language-translation/problem_unittests.py\", line 107, in test_model_inputs\\n    assert tf.assert_rank(keep_prob, 0, message=\\'Keep Probability has wrong rank\\')', 'File \"/Users/hlai/anaconda2/envs/tensorflow1/lib/python3.5/site-packages/tensorflow/python/ops/check_ops.py\", line 617, in assert_rank\\n    dynamic_condition, data, summarize)', 'File \"/Users/hlai/anaconda2/envs/tensorflow1/lib/python3.5/site-packages/tensorflow/python/ops/check_ops.py\", line 571, in _assert_rank_condition\\n    return control_flow_ops.Assert(condition, data, summarize=summarize)', 'File \"/Users/hlai/anaconda2/envs/tensorflow1/lib/python3.5/site-packages/tensorflow/python/util/tf_should_use.py\", line 170, in wrapped\\n    return _add_should_use_warning(fn(*args, **kwargs))', 'File \"/Users/hlai/anaconda2/envs/tensorflow1/lib/python3.5/site-packages/tensorflow/python/util/tf_should_use.py\", line 139, in _add_should_use_warning\\n    wrapped = TFShouldUseWarningWrapper(x)', 'File \"/Users/hlai/anaconda2/envs/tensorflow1/lib/python3.5/site-packages/tensorflow/python/util/tf_should_use.py\", line 96, in __init__\\n    stack = [s.strip() for s in traceback.format_stack()]']\n",
      "==================================\n"
     ]
    },
    {
     "name": "stdout",
     "output_type": "stream",
     "text": [
      "Tests Passed\n"
     ]
    }
   ],
   "source": [
    "def model_inputs():\n",
    "    \"\"\"\n",
    "    Create TF Placeholders for input, targets, learning rate, and lengths of source and target sequences.\n",
    "    :return: Tuple (input, targets, learning rate, keep probability, target sequence length,\n",
    "    max target sequence length, source sequence length)\n",
    "    \"\"\"\n",
    "    # TODO: Implement Function\n",
    "    input_ = tf.placeholder(tf.int32, [None, None], name=\"input\")\n",
    "    targets = tf.placeholder(tf.int32, [None, None], name=\"targets\")\n",
    "    learn_rate = tf.placeholder(tf.float32, None, name=\"learn_rate\")\n",
    "    keep_prob = tf.placeholder(tf.float32, None, name=\"keep_prob\")\n",
    "    \n",
    "    target_sequence_length = tf.placeholder(tf.int32, (None,), name='target_sequence_length')\n",
    "    max_target_len = tf.reduce_max(target_sequence_length, name='max_target_len')\n",
    "    source_sequence_length = tf.placeholder(tf.int32, (None,), name=\"source_sequence_length\")\n",
    "    return input_, targets, learn_rate, keep_prob, target_sequence_length, max_target_len, source_sequence_length\n",
    "\n",
    "\n",
    "\"\"\"\n",
    "DON'T MODIFY ANYTHING IN THIS CELL THAT IS BELOW THIS LINE\n",
    "\"\"\"\n",
    "tests.test_model_inputs(model_inputs)"
   ]
  },
  {
   "cell_type": "markdown",
   "metadata": {},
   "source": [
    "### Process Decoder Input\n",
    "Implement `process_decoder_input` by removing the last word id from each batch in `target_data` and concat the GO ID to the begining of each batch."
   ]
  },
  {
   "cell_type": "code",
   "execution_count": 10,
   "metadata": {},
   "outputs": [
    {
     "name": "stdout",
     "output_type": "stream",
     "text": [
      "Tests Passed\n"
     ]
    }
   ],
   "source": [
    "def process_decoder_input(target_data, target_vocab_to_int, batch_size):\n",
    "    \"\"\"\n",
    "    Preprocess target data for encoding\n",
    "    :param target_data: Target Placehoder\n",
    "    :param target_vocab_to_int: Dictionary to go from the target words to an id\n",
    "    :param batch_size: Batch Size\n",
    "    :return: Preprocessed target data\n",
    "    \"\"\"\n",
    "    # TODO: Implement Function\n",
    "    ending = tf.strided_slice(target_data, [0, 0], [batch_size, -1], [1, 1])\n",
    "    dec_input = tf.concat([tf.fill([batch_size, 1], target_vocab_to_int['<GO>']), ending], 1)\n",
    "    return dec_input\n",
    "\n",
    "\"\"\"\n",
    "DON'T MODIFY ANYTHING IN THIS CELL THAT IS BELOW THIS LINE\n",
    "\"\"\"\n",
    "tests.test_process_encoding_input(process_decoder_input)"
   ]
  },
  {
   "cell_type": "markdown",
   "metadata": {},
   "source": [
    "### Encoding\n",
    "Implement `encoding_layer()` to create a Encoder RNN layer:\n",
    " * Embed the encoder input using [`tf.contrib.layers.embed_sequence`](https://www.tensorflow.org/api_docs/python/tf/contrib/layers/embed_sequence)\n",
    " * Construct a [stacked](https://github.com/tensorflow/tensorflow/blob/6947f65a374ebf29e74bb71e36fd82760056d82c/tensorflow/docs_src/tutorials/recurrent.md#stacking-multiple-lstms) [`tf.contrib.rnn.LSTMCell`](https://www.tensorflow.org/api_docs/python/tf/contrib/rnn/LSTMCell) wrapped in a [`tf.contrib.rnn.DropoutWrapper`](https://www.tensorflow.org/api_docs/python/tf/contrib/rnn/DropoutWrapper)\n",
    " * Pass cell and embedded input to [`tf.nn.dynamic_rnn()`](https://www.tensorflow.org/api_docs/python/tf/nn/dynamic_rnn)"
   ]
  },
  {
   "cell_type": "code",
   "execution_count": 11,
   "metadata": {
    "scrolled": false
   },
   "outputs": [
    {
     "name": "stdout",
     "output_type": "stream",
     "text": [
      "Tests Passed\n"
     ]
    }
   ],
   "source": [
    "from imp import reload\n",
    "reload(tests)\n",
    "\n",
    "def encoding_layer(rnn_inputs, rnn_size, num_layers, keep_prob, \n",
    "                   source_sequence_length, source_vocab_size, \n",
    "                   encoding_embedding_size):\n",
    "    \"\"\"\n",
    "    Create encoding layer\n",
    "    :param rnn_inputs: Inputs for the RNN\n",
    "    :param rnn_size: RNN Size\n",
    "    :param num_layers: Number of layers\n",
    "    :param keep_prob: Dropout keep probability\n",
    "    :param source_sequence_length: a list of the lengths of each sequence in the batch\n",
    "    :param source_vocab_size: vocabulary size of source data\n",
    "    :param encoding_embedding_size: embedding size of source data\n",
    "    :return: tuple (RNN output, RNN state)\n",
    "    \"\"\"\n",
    "    # TODO: Implement Function\n",
    "    enc_embed_input = tf.contrib.layers.embed_sequence(rnn_inputs, source_vocab_size, encoding_embedding_size)\n",
    "    \n",
    "    def make_cell(rnn_size):\n",
    "        enc_cell = tf.contrib.rnn.LSTMCell(rnn_size, initializer=tf.truncated_normal_initializer(-1, 1, seed=2))\n",
    "        return enc_cell\n",
    "    \n",
    "    enc_cell = tf.contrib.rnn.MultiRNNCell([ make_cell(rnn_size) for _ in range(num_layers)])\n",
    "    \n",
    "    enc_output, enc_state = tf.nn.dynamic_rnn(enc_cell, enc_embed_input, sequence_length=source_sequence_length, dtype=tf.float32)\n",
    "    \n",
    "    return enc_output, enc_state\n",
    "\n",
    "\"\"\"\n",
    "DON'T MODIFY ANYTHING IN THIS CELL THAT IS BELOW THIS LINE\n",
    "\"\"\"\n",
    "tests.test_encoding_layer(encoding_layer)"
   ]
  },
  {
   "cell_type": "markdown",
   "metadata": {},
   "source": [
    "### Decoding - Training\n",
    "Create a training decoding layer:\n",
    "* Create a [`tf.contrib.seq2seq.TrainingHelper`](https://www.tensorflow.org/api_docs/python/tf/contrib/seq2seq/TrainingHelper) \n",
    "* Create a [`tf.contrib.seq2seq.BasicDecoder`](https://www.tensorflow.org/api_docs/python/tf/contrib/seq2seq/BasicDecoder)\n",
    "* Obtain the decoder outputs from [`tf.contrib.seq2seq.dynamic_decode`](https://www.tensorflow.org/api_docs/python/tf/contrib/seq2seq/dynamic_decode)"
   ]
  },
  {
   "cell_type": "code",
   "execution_count": 12,
   "metadata": {},
   "outputs": [
    {
     "name": "stdout",
     "output_type": "stream",
     "text": [
      "Tests Passed\n"
     ]
    }
   ],
   "source": [
    "\n",
    "def decoding_layer_train(encoder_state, dec_cell, dec_embed_input, \n",
    "                         target_sequence_length, max_summary_length, \n",
    "                         output_layer, keep_prob):\n",
    "    \"\"\"\n",
    "    Create a decoding layer for training\n",
    "    :param encoder_state: Encoder State\n",
    "    :param dec_cell: Decoder RNN Cell\n",
    "    :param dec_embed_input: Decoder embedded input\n",
    "    :param target_sequence_length: The lengths of each sequence in the target batch\n",
    "    :param max_summary_length: The length of the longest sequence in the batch\n",
    "    :param output_layer: Function to apply the output layer\n",
    "    :param keep_prob: Dropout keep probability\n",
    "    :return: BasicDecoderOutput containing training logits and sample_id\n",
    "    \"\"\"\n",
    "    # TODO: Implement Function\n",
    "\n",
    "#     with tf.variable_scope('decode'):\n",
    "    training_helper = tf.contrib.seq2seq.TrainingHelper(inputs=dec_embed_input,\n",
    "                                                        sequence_length=target_sequence_length, \n",
    "                                                        time_major=False)\n",
    "\n",
    "    training_decoder = tf.contrib.seq2seq.BasicDecoder(dec_cell, \n",
    "                                                       training_helper, \n",
    "                                                       encoder_state, \n",
    "                                                       output_layer)\n",
    "\n",
    "    training_decoder_output = tf.contrib.seq2seq.dynamic_decode(training_decoder, \n",
    "                                                                impute_finished=True, \n",
    "                                                                maximum_iterations=max_summary_length)[0]\n",
    "    return training_decoder_output\n",
    "\n",
    "\n",
    "\n",
    "\"\"\"\n",
    "DON'T MODIFY ANYTHING IN THIS CELL THAT IS BELOW THIS LINE\n",
    "\"\"\"\n",
    "tests.test_decoding_layer_train(decoding_layer_train)"
   ]
  },
  {
   "cell_type": "markdown",
   "metadata": {},
   "source": [
    "### Decoding - Inference\n",
    "Create inference decoder:\n",
    "* Create a [`tf.contrib.seq2seq.GreedyEmbeddingHelper`](https://www.tensorflow.org/api_docs/python/tf/contrib/seq2seq/GreedyEmbeddingHelper)\n",
    "* Create a [`tf.contrib.seq2seq.BasicDecoder`](https://www.tensorflow.org/api_docs/python/tf/contrib/seq2seq/BasicDecoder)\n",
    "* Obtain the decoder outputs from [`tf.contrib.seq2seq.dynamic_decode`](https://www.tensorflow.org/api_docs/python/tf/contrib/seq2seq/dynamic_decode)"
   ]
  },
  {
   "cell_type": "code",
   "execution_count": 13,
   "metadata": {
    "scrolled": true
   },
   "outputs": [
    {
     "name": "stdout",
     "output_type": "stream",
     "text": [
      "Tests Passed\n"
     ]
    }
   ],
   "source": [
    "def decoding_layer_infer(encoder_state, dec_cell, dec_embeddings, start_of_sequence_id,\n",
    "                         end_of_sequence_id, max_target_sequence_length,\n",
    "                         vocab_size, output_layer, batch_size, keep_prob):\n",
    "    \"\"\"\n",
    "    Create a decoding layer for inference\n",
    "    :param encoder_state: Encoder state\n",
    "    :param dec_cell: Decoder RNN Cell\n",
    "    :param dec_embeddings: Decoder embeddings\n",
    "    :param start_of_sequence_id: GO ID\n",
    "    :param end_of_sequence_id: EOS Id\n",
    "    :param max_target_sequence_length: Maximum length of target sequences\n",
    "    :param vocab_size: Size of decoder/target vocabulary\n",
    "    :param decoding_scope: TenorFlow Variable Scope for decoding\n",
    "    :param output_layer: Function to apply the output layer\n",
    "    :param batch_size: Batch size\n",
    "    :param keep_prob: Dropout keep probability\n",
    "    :return: BasicDecoderOutput containing inference logits and sample_id\n",
    "    \"\"\"\n",
    "    # TODO: Implement Function\n",
    "    \n",
    "#     with tf.variable_scope('decode'):\n",
    "    start_tokens = tf.tile(tf.constant([start_of_sequence_id], dtype=tf.int32), [batch_size], name='start_tokens')\n",
    "\n",
    "    inference_helper = tf.contrib.seq2seq.GreedyEmbeddingHelper(dec_embeddings, \n",
    "                                                                start_tokens, \n",
    "                                                                end_of_sequence_id)\n",
    "    inference_decoder = tf.contrib.seq2seq.BasicDecoder(dec_cell, \n",
    "                                                        inference_helper, \n",
    "                                                        encoder_state,\n",
    "                                                        output_layer)\n",
    "\n",
    "    inference_decoder_output = tf.contrib.seq2seq.dynamic_decode(inference_decoder,\n",
    "                                                                 impute_finished=True, \n",
    "                                                                 maximum_iterations=max_target_sequence_length)[0]\n",
    "\n",
    "    return inference_decoder_output\n",
    "\n",
    "\n",
    "\n",
    "\"\"\"\n",
    "DON'T MODIFY ANYTHING IN THIS CELL THAT IS BELOW THIS LINE\n",
    "\"\"\"\n",
    "tests.test_decoding_layer_infer(decoding_layer_infer)"
   ]
  },
  {
   "cell_type": "markdown",
   "metadata": {},
   "source": [
    "### Build the Decoding Layer\n",
    "Implement `decoding_layer()` to create a Decoder RNN layer.\n",
    "\n",
    "* Embed the target sequences\n",
    "* Construct the decoder LSTM cell (just like you constructed the encoder cell above)\n",
    "* Create an output layer to map the outputs of the decoder to the elements of our vocabulary\n",
    "* Use the your `decoding_layer_train(encoder_state, dec_cell, dec_embed_input, target_sequence_length, max_target_sequence_length, output_layer, keep_prob)` function to get the training logits.\n",
    "* Use your `decoding_layer_infer(encoder_state, dec_cell, dec_embeddings, start_of_sequence_id, end_of_sequence_id, max_target_sequence_length, vocab_size, output_layer, batch_size, keep_prob)` function to get the inference logits.\n",
    "\n",
    "Note: You'll need to use [tf.variable_scope](https://www.tensorflow.org/api_docs/python/tf/variable_scope) to share variables between training and inference."
   ]
  },
  {
   "cell_type": "code",
   "execution_count": 14,
   "metadata": {},
   "outputs": [
    {
     "name": "stdout",
     "output_type": "stream",
     "text": [
      "Tests Passed\n"
     ]
    }
   ],
   "source": [
    "def decoding_layer(dec_input, encoder_state,\n",
    "                   target_sequence_length, max_target_sequence_length,\n",
    "                   rnn_size,\n",
    "                   num_layers, target_vocab_to_int, target_vocab_size,\n",
    "                   batch_size, keep_prob, decoding_embedding_size):\n",
    "    \"\"\"\n",
    "    Create decoding layer\n",
    "    :param dec_input: Decoder input\n",
    "    :param encoder_state: Encoder state\n",
    "    :param target_sequence_length: The lengths of each sequence in the target batch\n",
    "    :param max_target_sequence_length: Maximum length of target sequences\n",
    "    :param rnn_size: RNN Size\n",
    "    :param num_layers: Number of layers\n",
    "    :param target_vocab_to_int: Dictionary to go from the target words to an id\n",
    "    :param target_vocab_size: Size of target vocabulary\n",
    "    :param batch_size: The size of the batch\n",
    "    :param keep_prob: Dropout keep probability\n",
    "    :param decoding_embedding_size: Decoding embedding size\n",
    "    :return: Tuple of (Training BasicDecoderOutput, Inference BasicDecoderOutput)\n",
    "    \"\"\"\n",
    "    # TODO: Implement Function\n",
    "    \n",
    "    dec_embeddings = tf.Variable(tf.random_uniform([target_vocab_size, decoding_embedding_size]))\n",
    "    dec_embed_input = tf.nn.embedding_lookup(dec_embeddings, dec_input)\n",
    "    \n",
    "    def make_cell(rnn_size):\n",
    "        dec_cell = tf.contrib.rnn.LSTMCell(rnn_size,initializer=tf.random_uniform_initializer(-0.1, 0.1))\n",
    "        return dec_cell\n",
    "    \n",
    "    dec_cell = tf.contrib.rnn.MultiRNNCell([make_cell(rnn_size) for _ in range(num_layers)])\n",
    "    \n",
    "    output_layer = Dense(target_vocab_size, \n",
    "                         kernel_initializer=tf.truncated_normal_initializer(mean=0.0,stddev=0.1))\n",
    "    \n",
    "    with tf.variable_scope('decode'):\n",
    "\n",
    "        training_decoder_output = decoding_layer_train(encoder_state, \n",
    "                                                   dec_cell, \n",
    "                                                   dec_embed_input, \n",
    "                                                   target_sequence_length, \n",
    "                                                   max_target_sequence_length, \n",
    "                                                   output_layer, \n",
    "                                                   keep_prob)\n",
    "    \n",
    "    with tf.variable_scope('decode', reuse=True):\n",
    "        inference_decoder_output = decoding_layer_infer(encoder_state, \n",
    "                                                    dec_cell, \n",
    "                                                    dec_embeddings, \n",
    "                                                    target_vocab_to_int['<GO>'], \n",
    "                                                    target_vocab_to_int['<EOS>'],\n",
    "                                                    max_target_sequence_length,\n",
    "                                                    target_vocab_size,\n",
    "                                                    output_layer,\n",
    "                                                    batch_size,\n",
    "                                                    keep_prob)\n",
    "    \n",
    "    return training_decoder_output, inference_decoder_output\n",
    "\n",
    "\n",
    "\n",
    "\"\"\"\n",
    "DON'T MODIFY ANYTHING IN THIS CELL THAT IS BELOW THIS LINE\n",
    "\"\"\"\n",
    "tests.test_decoding_layer(decoding_layer)"
   ]
  },
  {
   "cell_type": "markdown",
   "metadata": {},
   "source": [
    "### Build the Neural Network\n",
    "Apply the functions you implemented above to:\n",
    "\n",
    "- Encode the input using your `encoding_layer(rnn_inputs, rnn_size, num_layers, keep_prob,  source_sequence_length, source_vocab_size, encoding_embedding_size)`.\n",
    "- Process target data using your `process_decoder_input(target_data, target_vocab_to_int, batch_size)` function.\n",
    "- Decode the encoded input using your `decoding_layer(dec_input, enc_state, target_sequence_length, max_target_sentence_length, rnn_size, num_layers, target_vocab_to_int, target_vocab_size, batch_size, keep_prob, dec_embedding_size)` function."
   ]
  },
  {
   "cell_type": "code",
   "execution_count": 15,
   "metadata": {},
   "outputs": [
    {
     "name": "stdout",
     "output_type": "stream",
     "text": [
      "Tests Passed\n"
     ]
    }
   ],
   "source": [
    "def seq2seq_model(input_data, target_data, keep_prob, batch_size,\n",
    "                  source_sequence_length, target_sequence_length,\n",
    "                  max_target_sentence_length,\n",
    "                  source_vocab_size, target_vocab_size,\n",
    "                  enc_embedding_size, dec_embedding_size,\n",
    "                  rnn_size, num_layers, target_vocab_to_int):\n",
    "    \"\"\"\n",
    "    Build the Sequence-to-Sequence part of the neural network\n",
    "    :param input_data: Input placeholder\n",
    "    :param target_data: Target placeholder\n",
    "    :param keep_prob: Dropout keep probability placeholder\n",
    "    :param batch_size: Batch Size\n",
    "    :param source_sequence_length: Sequence Lengths of source sequences in the batch\n",
    "    :param target_sequence_length: Sequence Lengths of target sequences in the batch\n",
    "    :param source_vocab_size: Source vocabulary size\n",
    "    :param target_vocab_size: Target vocabulary size\n",
    "    :param enc_embedding_size: Decoder embedding size\n",
    "    :param dec_embedding_size: Encoder embedding size\n",
    "    :param rnn_size: RNN Size\n",
    "    :param num_layers: Number of layers\n",
    "    :param target_vocab_to_int: Dictionary to go from the target words to an id\n",
    "    :return: Tuple of (Training BasicDecoderOutput, Inference BasicDecoderOutput)\n",
    "    \"\"\"\n",
    "    # TODO: Implement Function\n",
    "    _, enc_state = encoding_layer(input_data, \n",
    "                                  rnn_size, \n",
    "                                  num_layers, \n",
    "                                  keep_prob,\n",
    "                                  source_sequence_length, \n",
    "                                  source_vocab_size, \n",
    "                                  enc_embedding_size)\n",
    "    \n",
    "    dec_input = process_decoder_input(target_data, target_vocab_to_int, batch_size)\n",
    "    \n",
    "    training_decoder_output, inference_decoder_output = decoding_layer(dec_input, \n",
    "                                                                       enc_state, \n",
    "                                                                       target_sequence_length,\n",
    "                                                                       max_target_sentence_length,\n",
    "                                                                       rnn_size,\n",
    "                                                                       num_layers,\n",
    "                                                                       target_vocab_to_int,\n",
    "                                                                       target_vocab_size,\n",
    "                                                                       batch_size,keep_prob,\n",
    "                                                                       dec_embedding_size)\n",
    "    return training_decoder_output, inference_decoder_output\n",
    "\n",
    "\n",
    "\"\"\"\n",
    "DON'T MODIFY ANYTHING IN THIS CELL THAT IS BELOW THIS LINE\n",
    "\"\"\"\n",
    "tests.test_seq2seq_model(seq2seq_model)"
   ]
  },
  {
   "cell_type": "markdown",
   "metadata": {},
   "source": [
    "## Neural Network Training\n",
    "### Hyperparameters\n",
    "Tune the following parameters:\n",
    "\n",
    "- Set `epochs` to the number of epochs.\n",
    "- Set `batch_size` to the batch size.\n",
    "- Set `rnn_size` to the size of the RNNs.\n",
    "- Set `num_layers` to the number of layers.\n",
    "- Set `encoding_embedding_size` to the size of the embedding for the encoder.\n",
    "- Set `decoding_embedding_size` to the size of the embedding for the decoder.\n",
    "- Set `learning_rate` to the learning rate.\n",
    "- Set `keep_probability` to the Dropout keep probability\n",
    "- Set `display_step` to state how many steps between each debug output statement"
   ]
  },
  {
   "cell_type": "code",
   "execution_count": 20,
   "metadata": {
    "collapsed": true
   },
   "outputs": [],
   "source": [
    "# Number of Epochs\n",
    "epochs = 10\n",
    "# Batch Size\n",
    "batch_size = 256\n",
    "# RNN Size\n",
    "rnn_size = 300\n",
    "# Number of Layers\n",
    "num_layers = 3\n",
    "# Embedding Size\n",
    "encoding_embedding_size = 100\n",
    "decoding_embedding_size = 100\n",
    "# Learning Rate\n",
    "learning_rate = 0.0001\n",
    "# Dropout Keep Probability\n",
    "keep_probability = 0.5\n",
    "display_step = 20"
   ]
  },
  {
   "cell_type": "markdown",
   "metadata": {},
   "source": [
    "### Build the Graph\n",
    "Build the graph using the neural network you implemented."
   ]
  },
  {
   "cell_type": "code",
   "execution_count": 17,
   "metadata": {
    "collapsed": true
   },
   "outputs": [],
   "source": [
    "\"\"\"\n",
    "DON'T MODIFY ANYTHING IN THIS CELL\n",
    "\"\"\"\n",
    "save_path = 'checkpoints/dev'\n",
    "(source_int_text, target_int_text), (source_vocab_to_int, target_vocab_to_int), _ = helper.load_preprocess()\n",
    "max_target_sentence_length = max([len(sentence) for sentence in source_int_text])\n",
    "\n",
    "train_graph = tf.Graph()\n",
    "with train_graph.as_default():\n",
    "    input_data, targets, lr, keep_prob, target_sequence_length, max_target_sequence_length, source_sequence_length = model_inputs()\n",
    "\n",
    "    #sequence_length = tf.placeholder_with_default(max_target_sentence_length, None, name='sequence_length')\n",
    "    input_shape = tf.shape(input_data)\n",
    "\n",
    "    train_logits, inference_logits = seq2seq_model(tf.reverse(input_data, [-1]),\n",
    "                                                   targets,\n",
    "                                                   keep_prob,\n",
    "                                                   batch_size,\n",
    "                                                   source_sequence_length,\n",
    "                                                   target_sequence_length,\n",
    "                                                   max_target_sequence_length,\n",
    "                                                   len(source_vocab_to_int),\n",
    "                                                   len(target_vocab_to_int),\n",
    "                                                   encoding_embedding_size,\n",
    "                                                   decoding_embedding_size,\n",
    "                                                   rnn_size,\n",
    "                                                   num_layers,\n",
    "                                                   target_vocab_to_int)\n",
    "\n",
    "\n",
    "    training_logits = tf.identity(train_logits.rnn_output, name='logits')\n",
    "    inference_logits = tf.identity(inference_logits.sample_id, name='predictions')\n",
    "\n",
    "    masks = tf.sequence_mask(target_sequence_length, max_target_sequence_length, dtype=tf.float32, name='masks')\n",
    "\n",
    "    with tf.name_scope(\"optimization\"):\n",
    "        # Loss function\n",
    "        cost = tf.contrib.seq2seq.sequence_loss(\n",
    "            training_logits,\n",
    "            targets,\n",
    "            masks)\n",
    "\n",
    "        # Optimizer\n",
    "        optimizer = tf.train.AdamOptimizer(lr)\n",
    "\n",
    "        # Gradient Clipping\n",
    "        gradients = optimizer.compute_gradients(cost)\n",
    "\n",
    "        capped_gradients = [(tf.clip_by_value(grad, -1., 1.), var) for grad, var in gradients if grad is not None]\n",
    "        train_op = optimizer.apply_gradients(capped_gradients)\n"
   ]
  },
  {
   "cell_type": "markdown",
   "metadata": {},
   "source": [
    "Batch and pad the source and target sequences"
   ]
  },
  {
   "cell_type": "code",
   "execution_count": 18,
   "metadata": {
    "collapsed": true
   },
   "outputs": [],
   "source": [
    "\"\"\"\n",
    "DON'T MODIFY ANYTHING IN THIS CELL\n",
    "\"\"\"\n",
    "def pad_sentence_batch(sentence_batch, pad_int):\n",
    "    \"\"\"Pad sentences with <PAD> so that each sentence of a batch has the same length\"\"\"\n",
    "    max_sentence = max([len(sentence) for sentence in sentence_batch])\n",
    "    return [sentence + [pad_int] * (max_sentence - len(sentence)) for sentence in sentence_batch]\n",
    "\n",
    "\n",
    "def get_batches(sources, targets, batch_size, source_pad_int, target_pad_int):\n",
    "    \"\"\"Batch targets, sources, and the lengths of their sentences together\"\"\"\n",
    "    for batch_i in range(0, len(sources)//batch_size):\n",
    "        start_i = batch_i * batch_size\n",
    "\n",
    "        # Slice the right amount for the batch\n",
    "        sources_batch = sources[start_i:start_i + batch_size]\n",
    "        targets_batch = targets[start_i:start_i + batch_size]\n",
    "\n",
    "        # Pad\n",
    "        pad_sources_batch = np.array(pad_sentence_batch(sources_batch, source_pad_int))\n",
    "        pad_targets_batch = np.array(pad_sentence_batch(targets_batch, target_pad_int))\n",
    "\n",
    "        # Need the lengths for the _lengths parameters\n",
    "        pad_targets_lengths = []\n",
    "        for target in pad_targets_batch:\n",
    "            pad_targets_lengths.append(len(target))\n",
    "\n",
    "        pad_source_lengths = []\n",
    "        for source in pad_sources_batch:\n",
    "            pad_source_lengths.append(len(source))\n",
    "\n",
    "        yield pad_sources_batch, pad_targets_batch, pad_source_lengths, pad_targets_lengths\n"
   ]
  },
  {
   "cell_type": "markdown",
   "metadata": {},
   "source": [
    "### Train\n",
    "Train the neural network on the preprocessed data. If you have a hard time getting a good loss, check the forms to see if anyone is having the same problem."
   ]
  },
  {
   "cell_type": "code",
   "execution_count": 21,
   "metadata": {
    "scrolled": true
   },
   "outputs": [
    {
     "name": "stdout",
     "output_type": "stream",
     "text": [
      "Epoch   0 Batch   20/538 - Train Accuracy: 0.2623, Validation Accuracy: 0.3159, Loss: 4.3924\n",
      "Epoch   0 Batch   40/538 - Train Accuracy: 0.3184, Validation Accuracy: 0.3287, Loss: 3.6715\n",
      "Epoch   0 Batch   60/538 - Train Accuracy: 0.2787, Validation Accuracy: 0.3569, Loss: 3.6181\n",
      "Epoch   0 Batch   80/538 - Train Accuracy: 0.2824, Validation Accuracy: 0.3599, Loss: 3.3689\n",
      "Epoch   0 Batch  100/538 - Train Accuracy: 0.2816, Validation Accuracy: 0.3471, Loss: 3.1922\n",
      "Epoch   0 Batch  120/538 - Train Accuracy: 0.2879, Validation Accuracy: 0.3530, Loss: 3.0915\n",
      "Epoch   0 Batch  140/538 - Train Accuracy: 0.2949, Validation Accuracy: 0.3633, Loss: 2.9942\n",
      "Epoch   0 Batch  160/538 - Train Accuracy: 0.3028, Validation Accuracy: 0.3500, Loss: 2.7812\n",
      "Epoch   0 Batch  180/538 - Train Accuracy: 0.3315, Validation Accuracy: 0.3521, Loss: 2.6716\n",
      "Epoch   0 Batch  200/538 - Train Accuracy: 0.3174, Validation Accuracy: 0.3693, Loss: 2.7485\n",
      "Epoch   0 Batch  220/538 - Train Accuracy: 0.3240, Validation Accuracy: 0.3631, Loss: 2.5665\n",
      "Epoch   0 Batch  240/538 - Train Accuracy: 0.3064, Validation Accuracy: 0.3681, Loss: 2.5900\n",
      "Epoch   0 Batch  260/538 - Train Accuracy: 0.3285, Validation Accuracy: 0.3725, Loss: 2.4356\n",
      "Epoch   0 Batch  280/538 - Train Accuracy: 0.3490, Validation Accuracy: 0.3720, Loss: 2.3489\n",
      "Epoch   0 Batch  300/538 - Train Accuracy: 0.3618, Validation Accuracy: 0.3697, Loss: 2.2834\n",
      "Epoch   0 Batch  320/538 - Train Accuracy: 0.3417, Validation Accuracy: 0.3723, Loss: 2.2773\n",
      "Epoch   0 Batch  340/538 - Train Accuracy: 0.3209, Validation Accuracy: 0.3741, Loss: 2.3186\n",
      "Epoch   0 Batch  360/538 - Train Accuracy: 0.3289, Validation Accuracy: 0.3819, Loss: 2.2712\n",
      "Epoch   0 Batch  380/538 - Train Accuracy: 0.3164, Validation Accuracy: 0.3780, Loss: 2.1890\n",
      "Epoch   0 Batch  400/538 - Train Accuracy: 0.3369, Validation Accuracy: 0.3810, Loss: 2.0878\n",
      "Epoch   0 Batch  420/538 - Train Accuracy: 0.3086, Validation Accuracy: 0.3755, Loss: 2.1023\n",
      "Epoch   0 Batch  440/538 - Train Accuracy: 0.3027, Validation Accuracy: 0.3761, Loss: 2.0844\n",
      "Epoch   0 Batch  460/538 - Train Accuracy: 0.3348, Validation Accuracy: 0.3841, Loss: 1.9865\n",
      "Epoch   0 Batch  480/538 - Train Accuracy: 0.3560, Validation Accuracy: 0.3851, Loss: 1.9064\n",
      "Epoch   0 Batch  500/538 - Train Accuracy: 0.3878, Validation Accuracy: 0.3864, Loss: 1.7883\n",
      "Epoch   0 Batch  520/538 - Train Accuracy: 0.3279, Validation Accuracy: 0.3897, Loss: 1.9428\n",
      "Epoch   1 Batch   20/538 - Train Accuracy: 0.3614, Validation Accuracy: 0.3897, Loss: 1.7685\n",
      "Epoch   1 Batch   40/538 - Train Accuracy: 0.3699, Validation Accuracy: 0.3787, Loss: 1.6518\n",
      "Epoch   1 Batch   60/538 - Train Accuracy: 0.3051, Validation Accuracy: 0.3688, Loss: 1.7786\n",
      "Epoch   1 Batch   80/538 - Train Accuracy: 0.3152, Validation Accuracy: 0.3729, Loss: 1.7845\n",
      "Epoch   1 Batch  100/538 - Train Accuracy: 0.3037, Validation Accuracy: 0.3704, Loss: 1.7100\n",
      "Epoch   1 Batch  120/538 - Train Accuracy: 0.3018, Validation Accuracy: 0.3672, Loss: 1.7059\n",
      "Epoch   1 Batch  140/538 - Train Accuracy: 0.3117, Validation Accuracy: 0.3667, Loss: 1.7495\n",
      "Epoch   1 Batch  160/538 - Train Accuracy: 0.3261, Validation Accuracy: 0.3668, Loss: 1.5739\n",
      "Epoch   1 Batch  180/538 - Train Accuracy: 0.3679, Validation Accuracy: 0.3821, Loss: 1.5863\n",
      "Epoch   1 Batch  200/538 - Train Accuracy: 0.2980, Validation Accuracy: 0.3720, Loss: 1.6257\n",
      "Epoch   1 Batch  220/538 - Train Accuracy: 0.3281, Validation Accuracy: 0.3688, Loss: 1.5596\n",
      "Epoch   1 Batch  240/538 - Train Accuracy: 0.3334, Validation Accuracy: 0.3958, Loss: 1.6047\n",
      "Epoch   1 Batch  260/538 - Train Accuracy: 0.3555, Validation Accuracy: 0.3890, Loss: 1.5190\n",
      "Epoch   1 Batch  280/538 - Train Accuracy: 0.3707, Validation Accuracy: 0.3954, Loss: 1.4520\n",
      "Epoch   1 Batch  300/538 - Train Accuracy: 0.3707, Validation Accuracy: 0.3958, Loss: 1.4361\n",
      "Epoch   1 Batch  320/538 - Train Accuracy: 0.3653, Validation Accuracy: 0.3979, Loss: 1.4404\n",
      "Epoch   1 Batch  340/538 - Train Accuracy: 0.3592, Validation Accuracy: 0.4075, Loss: 1.4784\n",
      "Epoch   1 Batch  360/538 - Train Accuracy: 0.3600, Validation Accuracy: 0.4077, Loss: 1.4617\n",
      "Epoch   1 Batch  380/538 - Train Accuracy: 0.3619, Validation Accuracy: 0.4112, Loss: 1.4235\n",
      "Epoch   1 Batch  400/538 - Train Accuracy: 0.3869, Validation Accuracy: 0.4096, Loss: 1.3837\n",
      "Epoch   1 Batch  420/538 - Train Accuracy: 0.3486, Validation Accuracy: 0.4045, Loss: 1.3807\n",
      "Epoch   1 Batch  440/538 - Train Accuracy: 0.3387, Validation Accuracy: 0.4034, Loss: 1.3919\n",
      "Epoch   1 Batch  460/538 - Train Accuracy: 0.3651, Validation Accuracy: 0.4089, Loss: 1.3324\n",
      "Epoch   1 Batch  480/538 - Train Accuracy: 0.3994, Validation Accuracy: 0.4013, Loss: 1.2831\n",
      "Epoch   1 Batch  500/538 - Train Accuracy: 0.4203, Validation Accuracy: 0.4034, Loss: 1.2135\n",
      "Epoch   1 Batch  520/538 - Train Accuracy: 0.3453, Validation Accuracy: 0.4070, Loss: 1.3109\n",
      "Epoch   2 Batch   20/538 - Train Accuracy: 0.4022, Validation Accuracy: 0.4066, Loss: 1.2174\n",
      "Epoch   2 Batch   40/538 - Train Accuracy: 0.4119, Validation Accuracy: 0.4059, Loss: 1.1313\n",
      "Epoch   2 Batch   60/538 - Train Accuracy: 0.3615, Validation Accuracy: 0.4007, Loss: 1.2261\n",
      "Epoch   2 Batch   80/538 - Train Accuracy: 0.3707, Validation Accuracy: 0.4004, Loss: 1.2672\n",
      "Epoch   2 Batch  100/538 - Train Accuracy: 0.3742, Validation Accuracy: 0.3975, Loss: 1.1892\n",
      "Epoch   2 Batch  120/538 - Train Accuracy: 0.3510, Validation Accuracy: 0.3762, Loss: 1.1971\n",
      "Epoch   2 Batch  140/538 - Train Accuracy: 0.3641, Validation Accuracy: 0.3968, Loss: 1.2675\n",
      "Epoch   2 Batch  160/538 - Train Accuracy: 0.4081, Validation Accuracy: 0.4064, Loss: 1.1257\n",
      "Epoch   2 Batch  180/538 - Train Accuracy: 0.3936, Validation Accuracy: 0.3867, Loss: 1.1442\n",
      "Epoch   2 Batch  200/538 - Train Accuracy: 0.3656, Validation Accuracy: 0.3880, Loss: 1.1531\n",
      "Epoch   2 Batch  220/538 - Train Accuracy: 0.3666, Validation Accuracy: 0.3890, Loss: 1.1195\n",
      "Epoch   2 Batch  240/538 - Train Accuracy: 0.3414, Validation Accuracy: 0.3993, Loss: 1.1701\n",
      "Epoch   2 Batch  260/538 - Train Accuracy: 0.3761, Validation Accuracy: 0.4119, Loss: 1.1172\n",
      "Epoch   2 Batch  280/538 - Train Accuracy: 0.4209, Validation Accuracy: 0.4105, Loss: 1.0576\n",
      "Epoch   2 Batch  300/538 - Train Accuracy: 0.4135, Validation Accuracy: 0.4155, Loss: 1.0533\n",
      "Epoch   2 Batch  320/538 - Train Accuracy: 0.3852, Validation Accuracy: 0.3867, Loss: 1.0567\n",
      "Epoch   2 Batch  340/538 - Train Accuracy: 0.3510, Validation Accuracy: 0.3885, Loss: 1.0897\n",
      "Epoch   2 Batch  360/538 - Train Accuracy: 0.3518, Validation Accuracy: 0.3915, Loss: 1.0838\n",
      "Epoch   2 Batch  380/538 - Train Accuracy: 0.3463, Validation Accuracy: 0.3938, Loss: 1.0505\n",
      "Epoch   2 Batch  400/538 - Train Accuracy: 0.3862, Validation Accuracy: 0.3926, Loss: 1.0304\n",
      "Epoch   2 Batch  420/538 - Train Accuracy: 0.3592, Validation Accuracy: 0.3878, Loss: 1.0189\n",
      "Epoch   2 Batch  440/538 - Train Accuracy: 0.3559, Validation Accuracy: 0.3933, Loss: 1.0497\n",
      "Epoch   2 Batch  460/538 - Train Accuracy: 0.3545, Validation Accuracy: 0.3869, Loss: 0.9921\n",
      "Epoch   2 Batch  480/538 - Train Accuracy: 0.4020, Validation Accuracy: 0.3924, Loss: 0.9711\n",
      "Epoch   2 Batch  500/538 - Train Accuracy: 0.4176, Validation Accuracy: 0.3844, Loss: 0.9191\n",
      "Epoch   2 Batch  520/538 - Train Accuracy: 0.3381, Validation Accuracy: 0.3913, Loss: 0.9921\n",
      "Epoch   3 Batch   20/538 - Train Accuracy: 0.3845, Validation Accuracy: 0.3814, Loss: 0.9392\n",
      "Epoch   3 Batch   40/538 - Train Accuracy: 0.4025, Validation Accuracy: 0.3842, Loss: 0.8654\n",
      "Epoch   3 Batch   60/538 - Train Accuracy: 0.3646, Validation Accuracy: 0.3935, Loss: 0.9448\n",
      "Epoch   3 Batch   80/538 - Train Accuracy: 0.3791, Validation Accuracy: 0.3981, Loss: 0.9970\n",
      "Epoch   3 Batch  100/538 - Train Accuracy: 0.3621, Validation Accuracy: 0.3888, Loss: 0.9252\n",
      "Epoch   3 Batch  120/538 - Train Accuracy: 0.3547, Validation Accuracy: 0.3903, Loss: 0.9146\n",
      "Epoch   3 Batch  140/538 - Train Accuracy: 0.3551, Validation Accuracy: 0.3910, Loss: 0.9985\n",
      "Epoch   3 Batch  160/538 - Train Accuracy: 0.3997, Validation Accuracy: 0.3917, Loss: 0.8887\n",
      "Epoch   3 Batch  180/538 - Train Accuracy: 0.3938, Validation Accuracy: 0.3917, Loss: 0.9078\n",
      "Epoch   3 Batch  200/538 - Train Accuracy: 0.3633, Validation Accuracy: 0.3979, Loss: 0.9084\n",
      "Epoch   3 Batch  220/538 - Train Accuracy: 0.3597, Validation Accuracy: 0.4004, Loss: 0.8872\n"
     ]
    },
    {
     "name": "stdout",
     "output_type": "stream",
     "text": [
      "Epoch   3 Batch  240/538 - Train Accuracy: 0.3346, Validation Accuracy: 0.4006, Loss: 0.9409\n",
      "Epoch   3 Batch  260/538 - Train Accuracy: 0.3577, Validation Accuracy: 0.3970, Loss: 0.9013\n",
      "Epoch   3 Batch  280/538 - Train Accuracy: 0.3979, Validation Accuracy: 0.3974, Loss: 0.8573\n",
      "Epoch   3 Batch  300/538 - Train Accuracy: 0.4049, Validation Accuracy: 0.3999, Loss: 0.8619\n",
      "Epoch   3 Batch  320/538 - Train Accuracy: 0.4038, Validation Accuracy: 0.4004, Loss: 0.8650\n",
      "Epoch   3 Batch  340/538 - Train Accuracy: 0.3570, Validation Accuracy: 0.4006, Loss: 0.9017\n",
      "Epoch   3 Batch  360/538 - Train Accuracy: 0.3572, Validation Accuracy: 0.3988, Loss: 0.8883\n",
      "Epoch   3 Batch  380/538 - Train Accuracy: 0.3568, Validation Accuracy: 0.3965, Loss: 0.8711\n",
      "Epoch   3 Batch  400/538 - Train Accuracy: 0.3919, Validation Accuracy: 0.4006, Loss: 0.8507\n",
      "Epoch   3 Batch  420/538 - Train Accuracy: 0.3699, Validation Accuracy: 0.3995, Loss: 0.8531\n",
      "Epoch   3 Batch  440/538 - Train Accuracy: 0.3627, Validation Accuracy: 0.3984, Loss: 0.8853\n",
      "Epoch   3 Batch  460/538 - Train Accuracy: 0.3778, Validation Accuracy: 0.4039, Loss: 0.8278\n",
      "Epoch   3 Batch  480/538 - Train Accuracy: 0.4222, Validation Accuracy: 0.4038, Loss: 0.8213\n",
      "Epoch   3 Batch  500/538 - Train Accuracy: 0.4254, Validation Accuracy: 0.3975, Loss: 0.7751\n",
      "Epoch   3 Batch  520/538 - Train Accuracy: 0.3631, Validation Accuracy: 0.4004, Loss: 0.8478\n",
      "Epoch   4 Batch   20/538 - Train Accuracy: 0.4018, Validation Accuracy: 0.3983, Loss: 0.8149\n",
      "Epoch   4 Batch   40/538 - Train Accuracy: 0.4190, Validation Accuracy: 0.3965, Loss: 0.7393\n",
      "Epoch   4 Batch   60/538 - Train Accuracy: 0.3844, Validation Accuracy: 0.3990, Loss: 0.8176\n",
      "Epoch   4 Batch   80/538 - Train Accuracy: 0.3760, Validation Accuracy: 0.3997, Loss: 0.8675\n",
      "Epoch   4 Batch  100/538 - Train Accuracy: 0.3832, Validation Accuracy: 0.3999, Loss: 0.8084\n",
      "Epoch   4 Batch  120/538 - Train Accuracy: 0.3691, Validation Accuracy: 0.3945, Loss: 0.7929\n",
      "Epoch   4 Batch  140/538 - Train Accuracy: 0.3613, Validation Accuracy: 0.3949, Loss: 0.8725\n",
      "Epoch   4 Batch  160/538 - Train Accuracy: 0.4020, Validation Accuracy: 0.3951, Loss: 0.7845\n",
      "Epoch   4 Batch  180/538 - Train Accuracy: 0.4165, Validation Accuracy: 0.3885, Loss: 0.7999\n",
      "Epoch   4 Batch  200/538 - Train Accuracy: 0.3680, Validation Accuracy: 0.3963, Loss: 0.8041\n",
      "Epoch   4 Batch  220/538 - Train Accuracy: 0.3622, Validation Accuracy: 0.4015, Loss: 0.7817\n",
      "Epoch   4 Batch  240/538 - Train Accuracy: 0.3457, Validation Accuracy: 0.3997, Loss: 0.8351\n",
      "Epoch   4 Batch  260/538 - Train Accuracy: 0.3674, Validation Accuracy: 0.3958, Loss: 0.8004\n",
      "Epoch   4 Batch  280/538 - Train Accuracy: 0.4098, Validation Accuracy: 0.3938, Loss: 0.7658\n",
      "Epoch   4 Batch  300/538 - Train Accuracy: 0.4053, Validation Accuracy: 0.3947, Loss: 0.7753\n",
      "Epoch   4 Batch  320/538 - Train Accuracy: 0.4161, Validation Accuracy: 0.3997, Loss: 0.7757\n",
      "Epoch   4 Batch  340/538 - Train Accuracy: 0.3504, Validation Accuracy: 0.3965, Loss: 0.8195\n",
      "Epoch   4 Batch  360/538 - Train Accuracy: 0.3686, Validation Accuracy: 0.3940, Loss: 0.8002\n",
      "Epoch   4 Batch  380/538 - Train Accuracy: 0.3617, Validation Accuracy: 0.3974, Loss: 0.7905\n",
      "Epoch   4 Batch  400/538 - Train Accuracy: 0.4005, Validation Accuracy: 0.3997, Loss: 0.7684\n",
      "Epoch   4 Batch  420/538 - Train Accuracy: 0.3807, Validation Accuracy: 0.3963, Loss: 0.7777\n",
      "Epoch   4 Batch  440/538 - Train Accuracy: 0.3695, Validation Accuracy: 0.4025, Loss: 0.8069\n",
      "Epoch   4 Batch  460/538 - Train Accuracy: 0.3774, Validation Accuracy: 0.3960, Loss: 0.7516\n",
      "Epoch   4 Batch  480/538 - Train Accuracy: 0.4358, Validation Accuracy: 0.4009, Loss: 0.7511\n",
      "Epoch   4 Batch  500/538 - Train Accuracy: 0.4327, Validation Accuracy: 0.4015, Loss: 0.7077\n",
      "Epoch   4 Batch  520/538 - Train Accuracy: 0.3715, Validation Accuracy: 0.4023, Loss: 0.7785\n",
      "Epoch   5 Batch   20/538 - Train Accuracy: 0.4072, Validation Accuracy: 0.4015, Loss: 0.7565\n",
      "Epoch   5 Batch   40/538 - Train Accuracy: 0.4270, Validation Accuracy: 0.4031, Loss: 0.6794\n",
      "Epoch   5 Batch   60/538 - Train Accuracy: 0.3904, Validation Accuracy: 0.4036, Loss: 0.7581\n",
      "Epoch   5 Batch   80/538 - Train Accuracy: 0.3826, Validation Accuracy: 0.4031, Loss: 0.8038\n",
      "Epoch   5 Batch  100/538 - Train Accuracy: 0.3920, Validation Accuracy: 0.4039, Loss: 0.7507\n",
      "Epoch   5 Batch  120/538 - Train Accuracy: 0.3701, Validation Accuracy: 0.3945, Loss: 0.7361\n",
      "Epoch   5 Batch  140/538 - Train Accuracy: 0.3607, Validation Accuracy: 0.3904, Loss: 0.8038\n",
      "Epoch   5 Batch  160/538 - Train Accuracy: 0.4009, Validation Accuracy: 0.3970, Loss: 0.7721\n",
      "Epoch   5 Batch  180/538 - Train Accuracy: 0.4085, Validation Accuracy: 0.4038, Loss: 0.7624\n",
      "Epoch   5 Batch  200/538 - Train Accuracy: 0.3729, Validation Accuracy: 0.4087, Loss: 0.7614\n",
      "Epoch   5 Batch  220/538 - Train Accuracy: 0.3517, Validation Accuracy: 0.3924, Loss: 0.7507\n",
      "Epoch   5 Batch  240/538 - Train Accuracy: 0.3426, Validation Accuracy: 0.4153, Loss: 0.7971\n",
      "Epoch   5 Batch  260/538 - Train Accuracy: 0.3869, Validation Accuracy: 0.3938, Loss: 0.7517\n",
      "Epoch   5 Batch  280/538 - Train Accuracy: 0.4312, Validation Accuracy: 0.4073, Loss: 0.7200\n",
      "Epoch   5 Batch  300/538 - Train Accuracy: 0.4129, Validation Accuracy: 0.3967, Loss: 0.7359\n",
      "Epoch   5 Batch  320/538 - Train Accuracy: 0.4202, Validation Accuracy: 0.3899, Loss: 0.7355\n",
      "Epoch   5 Batch  340/538 - Train Accuracy: 0.3756, Validation Accuracy: 0.3972, Loss: 0.7835\n",
      "Epoch   5 Batch  360/538 - Train Accuracy: 0.3721, Validation Accuracy: 0.3960, Loss: 0.7687\n",
      "Epoch   5 Batch  380/538 - Train Accuracy: 0.3582, Validation Accuracy: 0.3936, Loss: 0.7590\n",
      "Epoch   5 Batch  400/538 - Train Accuracy: 0.4115, Validation Accuracy: 0.4000, Loss: 0.7343\n",
      "Epoch   5 Batch  420/538 - Train Accuracy: 0.3828, Validation Accuracy: 0.3945, Loss: 0.7449\n",
      "Epoch   5 Batch  440/538 - Train Accuracy: 0.3791, Validation Accuracy: 0.4000, Loss: 0.7695\n",
      "Epoch   5 Batch  460/538 - Train Accuracy: 0.3795, Validation Accuracy: 0.3967, Loss: 0.7142\n",
      "Epoch   5 Batch  480/538 - Train Accuracy: 0.4345, Validation Accuracy: 0.3979, Loss: 0.7171\n",
      "Epoch   5 Batch  500/538 - Train Accuracy: 0.4386, Validation Accuracy: 0.4007, Loss: 0.6749\n",
      "Epoch   5 Batch  520/538 - Train Accuracy: 0.3734, Validation Accuracy: 0.3981, Loss: 0.7418\n",
      "Epoch   6 Batch   20/538 - Train Accuracy: 0.4126, Validation Accuracy: 0.3997, Loss: 0.7227\n",
      "Epoch   6 Batch   40/538 - Train Accuracy: 0.4382, Validation Accuracy: 0.3965, Loss: 0.6546\n",
      "Epoch   6 Batch   60/538 - Train Accuracy: 0.3971, Validation Accuracy: 0.4009, Loss: 0.7257\n",
      "Epoch   6 Batch   80/538 - Train Accuracy: 0.3873, Validation Accuracy: 0.4057, Loss: 0.7631\n",
      "Epoch   6 Batch  100/538 - Train Accuracy: 0.3973, Validation Accuracy: 0.4071, Loss: 0.7190\n",
      "Epoch   6 Batch  120/538 - Train Accuracy: 0.3777, Validation Accuracy: 0.4043, Loss: 0.7078\n",
      "Epoch   6 Batch  140/538 - Train Accuracy: 0.3730, Validation Accuracy: 0.3896, Loss: 0.7620\n",
      "Epoch   6 Batch  160/538 - Train Accuracy: 0.4141, Validation Accuracy: 0.4025, Loss: 0.7037\n",
      "Epoch   6 Batch  180/538 - Train Accuracy: 0.4141, Validation Accuracy: 0.4007, Loss: 0.7133\n",
      "Epoch   6 Batch  200/538 - Train Accuracy: 0.3918, Validation Accuracy: 0.4073, Loss: 0.7152\n",
      "Epoch   6 Batch  220/538 - Train Accuracy: 0.3642, Validation Accuracy: 0.3940, Loss: 0.6982\n",
      "Epoch   6 Batch  240/538 - Train Accuracy: 0.3570, Validation Accuracy: 0.3979, Loss: 0.7445\n",
      "Epoch   6 Batch  260/538 - Train Accuracy: 0.3703, Validation Accuracy: 0.4052, Loss: 0.7158\n",
      "Epoch   6 Batch  280/538 - Train Accuracy: 0.4317, Validation Accuracy: 0.4025, Loss: 0.6864\n",
      "Epoch   6 Batch  300/538 - Train Accuracy: 0.4221, Validation Accuracy: 0.4038, Loss: 0.6981\n",
      "Epoch   6 Batch  320/538 - Train Accuracy: 0.4182, Validation Accuracy: 0.4062, Loss: 0.6999\n",
      "Epoch   6 Batch  340/538 - Train Accuracy: 0.3754, Validation Accuracy: 0.4031, Loss: 0.7457\n",
      "Epoch   6 Batch  360/538 - Train Accuracy: 0.3797, Validation Accuracy: 0.3931, Loss: 0.7374\n",
      "Epoch   6 Batch  380/538 - Train Accuracy: 0.3840, Validation Accuracy: 0.4146, Loss: 0.7236\n",
      "Epoch   6 Batch  400/538 - Train Accuracy: 0.4226, Validation Accuracy: 0.4059, Loss: 0.6972\n",
      "Epoch   6 Batch  420/538 - Train Accuracy: 0.3830, Validation Accuracy: 0.4141, Loss: 0.7152\n",
      "Epoch   6 Batch  440/538 - Train Accuracy: 0.4082, Validation Accuracy: 0.4187, Loss: 0.7293\n"
     ]
    },
    {
     "name": "stdout",
     "output_type": "stream",
     "text": [
      "Epoch   6 Batch  460/538 - Train Accuracy: 0.3869, Validation Accuracy: 0.4102, Loss: 0.6880\n",
      "Epoch   6 Batch  480/538 - Train Accuracy: 0.4474, Validation Accuracy: 0.4080, Loss: 0.6868\n",
      "Epoch   6 Batch  500/538 - Train Accuracy: 0.4560, Validation Accuracy: 0.4162, Loss: 0.6426\n",
      "Epoch   6 Batch  520/538 - Train Accuracy: 0.3859, Validation Accuracy: 0.4224, Loss: 0.7107\n",
      "Epoch   7 Batch   20/538 - Train Accuracy: 0.4146, Validation Accuracy: 0.4045, Loss: 0.7006\n",
      "Epoch   7 Batch   40/538 - Train Accuracy: 0.4586, Validation Accuracy: 0.4068, Loss: 0.6224\n",
      "Epoch   7 Batch   60/538 - Train Accuracy: 0.4086, Validation Accuracy: 0.4125, Loss: 0.6921\n",
      "Epoch   7 Batch   80/538 - Train Accuracy: 0.4041, Validation Accuracy: 0.4171, Loss: 0.7289\n",
      "Epoch   7 Batch  100/538 - Train Accuracy: 0.4139, Validation Accuracy: 0.4171, Loss: 0.6933\n",
      "Epoch   7 Batch  120/538 - Train Accuracy: 0.3758, Validation Accuracy: 0.3979, Loss: 0.6886\n",
      "Epoch   7 Batch  140/538 - Train Accuracy: 0.3863, Validation Accuracy: 0.4057, Loss: 0.7304\n",
      "Epoch   7 Batch  160/538 - Train Accuracy: 0.4230, Validation Accuracy: 0.4015, Loss: 0.6837\n",
      "Epoch   7 Batch  180/538 - Train Accuracy: 0.4312, Validation Accuracy: 0.4066, Loss: 0.6927\n",
      "Epoch   7 Batch  200/538 - Train Accuracy: 0.4027, Validation Accuracy: 0.4201, Loss: 0.6883\n",
      "Epoch   7 Batch  220/538 - Train Accuracy: 0.3759, Validation Accuracy: 0.4089, Loss: 0.6733\n",
      "Epoch   7 Batch  240/538 - Train Accuracy: 0.3828, Validation Accuracy: 0.4155, Loss: 0.7056\n",
      "Epoch   7 Batch  260/538 - Train Accuracy: 0.4098, Validation Accuracy: 0.4327, Loss: 0.6824\n",
      "Epoch   7 Batch  280/538 - Train Accuracy: 0.4524, Validation Accuracy: 0.4277, Loss: 0.6538\n",
      "Epoch   7 Batch  300/538 - Train Accuracy: 0.4202, Validation Accuracy: 0.4018, Loss: 0.6834\n",
      "Epoch   7 Batch  320/538 - Train Accuracy: 0.4444, Validation Accuracy: 0.4261, Loss: 0.6666\n",
      "Epoch   7 Batch  340/538 - Train Accuracy: 0.4016, Validation Accuracy: 0.4244, Loss: 0.7155\n",
      "Epoch   7 Batch  360/538 - Train Accuracy: 0.3980, Validation Accuracy: 0.4212, Loss: 0.6956\n",
      "Epoch   7 Batch  380/538 - Train Accuracy: 0.3930, Validation Accuracy: 0.4231, Loss: 0.6804\n",
      "Epoch   7 Batch  400/538 - Train Accuracy: 0.4235, Validation Accuracy: 0.4064, Loss: 0.6851\n",
      "Epoch   7 Batch  420/538 - Train Accuracy: 0.3963, Validation Accuracy: 0.4213, Loss: 0.6927\n",
      "Epoch   7 Batch  440/538 - Train Accuracy: 0.3937, Validation Accuracy: 0.3873, Loss: 0.7133\n",
      "Epoch   7 Batch  460/538 - Train Accuracy: 0.4046, Validation Accuracy: 0.3940, Loss: 0.6652\n",
      "Epoch   7 Batch  480/538 - Train Accuracy: 0.4604, Validation Accuracy: 0.4091, Loss: 0.6746\n",
      "Epoch   7 Batch  500/538 - Train Accuracy: 0.4631, Validation Accuracy: 0.4263, Loss: 0.6363\n",
      "Epoch   7 Batch  520/538 - Train Accuracy: 0.3900, Validation Accuracy: 0.4226, Loss: 0.6958\n",
      "Epoch   8 Batch   20/538 - Train Accuracy: 0.4328, Validation Accuracy: 0.4237, Loss: 0.6743\n",
      "Epoch   8 Batch   40/538 - Train Accuracy: 0.4576, Validation Accuracy: 0.4240, Loss: 0.6006\n",
      "Epoch   8 Batch   60/538 - Train Accuracy: 0.4398, Validation Accuracy: 0.4293, Loss: 0.6717\n",
      "Epoch   8 Batch   80/538 - Train Accuracy: 0.3967, Validation Accuracy: 0.4078, Loss: 0.7198\n",
      "Epoch   8 Batch  100/538 - Train Accuracy: 0.4154, Validation Accuracy: 0.4094, Loss: 0.6778\n",
      "Epoch   8 Batch  120/538 - Train Accuracy: 0.4012, Validation Accuracy: 0.4189, Loss: 0.6617\n",
      "Epoch   8 Batch  140/538 - Train Accuracy: 0.3852, Validation Accuracy: 0.4240, Loss: 0.7148\n",
      "Epoch   8 Batch  160/538 - Train Accuracy: 0.4178, Validation Accuracy: 0.4043, Loss: 0.6731\n",
      "Epoch   8 Batch  180/538 - Train Accuracy: 0.4349, Validation Accuracy: 0.4228, Loss: 0.6659\n",
      "Epoch   8 Batch  200/538 - Train Accuracy: 0.4170, Validation Accuracy: 0.4293, Loss: 0.6649\n",
      "Epoch   8 Batch  220/538 - Train Accuracy: 0.3867, Validation Accuracy: 0.4187, Loss: 0.6514\n",
      "Epoch   8 Batch  240/538 - Train Accuracy: 0.3682, Validation Accuracy: 0.4071, Loss: 0.6833\n",
      "Epoch   8 Batch  260/538 - Train Accuracy: 0.4040, Validation Accuracy: 0.4062, Loss: 0.6677\n",
      "Epoch   8 Batch  280/538 - Train Accuracy: 0.4542, Validation Accuracy: 0.4263, Loss: 0.6420\n",
      "Epoch   8 Batch  300/538 - Train Accuracy: 0.4275, Validation Accuracy: 0.4311, Loss: 0.6549\n",
      "Epoch   8 Batch  320/538 - Train Accuracy: 0.4535, Validation Accuracy: 0.4338, Loss: 0.6506\n",
      "Epoch   8 Batch  340/538 - Train Accuracy: 0.4066, Validation Accuracy: 0.4295, Loss: 0.6969\n",
      "Epoch   8 Batch  360/538 - Train Accuracy: 0.4014, Validation Accuracy: 0.4105, Loss: 0.6866\n",
      "Epoch   8 Batch  380/538 - Train Accuracy: 0.4051, Validation Accuracy: 0.4102, Loss: 0.6751\n",
      "Epoch   8 Batch  400/538 - Train Accuracy: 0.4232, Validation Accuracy: 0.4222, Loss: 0.6627\n",
      "Epoch   8 Batch  420/538 - Train Accuracy: 0.3980, Validation Accuracy: 0.4189, Loss: 0.6743\n",
      "Epoch   8 Batch  440/538 - Train Accuracy: 0.4039, Validation Accuracy: 0.4087, Loss: 0.6882\n",
      "Epoch   8 Batch  460/538 - Train Accuracy: 0.4018, Validation Accuracy: 0.3990, Loss: 0.6481\n",
      "Epoch   8 Batch  480/538 - Train Accuracy: 0.4572, Validation Accuracy: 0.4112, Loss: 0.6629\n",
      "Epoch   8 Batch  500/538 - Train Accuracy: 0.4505, Validation Accuracy: 0.4031, Loss: 0.6112\n",
      "Epoch   8 Batch  520/538 - Train Accuracy: 0.4049, Validation Accuracy: 0.4350, Loss: 0.6795\n",
      "Epoch   9 Batch   20/538 - Train Accuracy: 0.4154, Validation Accuracy: 0.3975, Loss: 0.6659\n",
      "Epoch   9 Batch   40/538 - Train Accuracy: 0.4744, Validation Accuracy: 0.4318, Loss: 0.5928\n",
      "Epoch   9 Batch   60/538 - Train Accuracy: 0.4322, Validation Accuracy: 0.4309, Loss: 0.6598\n",
      "Epoch   9 Batch   80/538 - Train Accuracy: 0.4199, Validation Accuracy: 0.4389, Loss: 0.6955\n",
      "Epoch   9 Batch  100/538 - Train Accuracy: 0.4307, Validation Accuracy: 0.4389, Loss: 0.6539\n",
      "Epoch   9 Batch  120/538 - Train Accuracy: 0.4209, Validation Accuracy: 0.4322, Loss: 0.6360\n",
      "Epoch   9 Batch  140/538 - Train Accuracy: 0.3900, Validation Accuracy: 0.4181, Loss: 0.6874\n",
      "Epoch   9 Batch  160/538 - Train Accuracy: 0.4375, Validation Accuracy: 0.4318, Loss: 0.6475\n",
      "Epoch   9 Batch  180/538 - Train Accuracy: 0.4574, Validation Accuracy: 0.4338, Loss: 0.6407\n",
      "Epoch   9 Batch  200/538 - Train Accuracy: 0.4256, Validation Accuracy: 0.4379, Loss: 0.6477\n",
      "Epoch   9 Batch  220/538 - Train Accuracy: 0.3903, Validation Accuracy: 0.4217, Loss: 0.6316\n",
      "Epoch   9 Batch  240/538 - Train Accuracy: 0.3957, Validation Accuracy: 0.4339, Loss: 0.6577\n",
      "Epoch   9 Batch  260/538 - Train Accuracy: 0.4016, Validation Accuracy: 0.4295, Loss: 0.6531\n",
      "Epoch   9 Batch  280/538 - Train Accuracy: 0.4470, Validation Accuracy: 0.4224, Loss: 0.6240\n",
      "Epoch   9 Batch  300/538 - Train Accuracy: 0.4511, Validation Accuracy: 0.4306, Loss: 0.6404\n",
      "Epoch   9 Batch  320/538 - Train Accuracy: 0.4546, Validation Accuracy: 0.4320, Loss: 0.6342\n",
      "Epoch   9 Batch  340/538 - Train Accuracy: 0.4135, Validation Accuracy: 0.4347, Loss: 0.6817\n",
      "Epoch   9 Batch  360/538 - Train Accuracy: 0.4092, Validation Accuracy: 0.4350, Loss: 0.6619\n",
      "Epoch   9 Batch  380/538 - Train Accuracy: 0.4137, Validation Accuracy: 0.4355, Loss: 0.6470\n",
      "Epoch   9 Batch  400/538 - Train Accuracy: 0.4423, Validation Accuracy: 0.4370, Loss: 0.6345\n",
      "Epoch   9 Batch  420/538 - Train Accuracy: 0.4092, Validation Accuracy: 0.4302, Loss: 0.6554\n",
      "Epoch   9 Batch  440/538 - Train Accuracy: 0.4076, Validation Accuracy: 0.4235, Loss: 0.6642\n",
      "Epoch   9 Batch  460/538 - Train Accuracy: 0.4020, Validation Accuracy: 0.4260, Loss: 0.6226\n",
      "Epoch   9 Batch  480/538 - Train Accuracy: 0.4821, Validation Accuracy: 0.4322, Loss: 0.6264\n",
      "Epoch   9 Batch  500/538 - Train Accuracy: 0.4703, Validation Accuracy: 0.4281, Loss: 0.5917\n",
      "Epoch   9 Batch  520/538 - Train Accuracy: 0.4023, Validation Accuracy: 0.4325, Loss: 0.6595\n",
      "Model Trained and Saved\n"
     ]
    }
   ],
   "source": [
    "\"\"\"\n",
    "DON'T MODIFY ANYTHING IN THIS CELL\n",
    "\"\"\"\n",
    "def get_accuracy(target, logits):\n",
    "    \"\"\"\n",
    "    Calculate accuracy\n",
    "    \"\"\"\n",
    "    max_seq = max(target.shape[1], logits.shape[1])\n",
    "    if max_seq - target.shape[1]:\n",
    "        target = np.pad(\n",
    "            target,\n",
    "            [(0,0),(0,max_seq - target.shape[1])],\n",
    "            'constant')\n",
    "    if max_seq - logits.shape[1]:\n",
    "        logits = np.pad(\n",
    "            logits,\n",
    "            [(0,0),(0,max_seq - logits.shape[1])],\n",
    "            'constant')\n",
    "\n",
    "    return np.mean(np.equal(target, logits))\n",
    "\n",
    "# Split data to training and validation sets\n",
    "train_source = source_int_text[batch_size:]\n",
    "train_target = target_int_text[batch_size:]\n",
    "valid_source = source_int_text[:batch_size]\n",
    "valid_target = target_int_text[:batch_size]\n",
    "(valid_sources_batch, valid_targets_batch, valid_sources_lengths, valid_targets_lengths ) = next(get_batches(valid_source,\n",
    "                                                                                                             valid_target,\n",
    "                                                                                                             batch_size,\n",
    "                                                                                                             source_vocab_to_int['<PAD>'],\n",
    "                                                                                                             target_vocab_to_int['<PAD>']))                                                                                                  \n",
    "with tf.Session(graph=train_graph) as sess:\n",
    "    sess.run(tf.global_variables_initializer())\n",
    "\n",
    "    for epoch_i in range(epochs):\n",
    "        for batch_i, (source_batch, target_batch, sources_lengths, targets_lengths) in enumerate(\n",
    "                get_batches(train_source, train_target, batch_size,\n",
    "                            source_vocab_to_int['<PAD>'],\n",
    "                            target_vocab_to_int['<PAD>'])):\n",
    "\n",
    "            _, loss = sess.run(\n",
    "                [train_op, cost],\n",
    "                {input_data: source_batch,\n",
    "                 targets: target_batch,\n",
    "                 lr: learning_rate,\n",
    "                 target_sequence_length: targets_lengths,\n",
    "                 source_sequence_length: sources_lengths,\n",
    "                 keep_prob: keep_probability})\n",
    "\n",
    "\n",
    "            if batch_i % display_step == 0 and batch_i > 0:\n",
    "\n",
    "\n",
    "                batch_train_logits = sess.run(\n",
    "                    inference_logits,\n",
    "                    {input_data: source_batch,\n",
    "                     source_sequence_length: sources_lengths,\n",
    "                     target_sequence_length: targets_lengths,\n",
    "                     keep_prob: 1.0})\n",
    "\n",
    "\n",
    "                batch_valid_logits = sess.run(\n",
    "                    inference_logits,\n",
    "                    {input_data: valid_sources_batch,\n",
    "                     source_sequence_length: valid_sources_lengths,\n",
    "                     target_sequence_length: valid_targets_lengths,\n",
    "                     keep_prob: 1.0})\n",
    "\n",
    "                train_acc = get_accuracy(target_batch, batch_train_logits)\n",
    "\n",
    "                valid_acc = get_accuracy(valid_targets_batch, batch_valid_logits)\n",
    "\n",
    "                print('Epoch {:>3} Batch {:>4}/{} - Train Accuracy: {:>6.4f}, Validation Accuracy: {:>6.4f}, Loss: {:>6.4f}'\n",
    "                      .format(epoch_i, batch_i, len(source_int_text) // batch_size, train_acc, valid_acc, loss))\n",
    "\n",
    "    # Save Model\n",
    "    saver = tf.train.Saver()\n",
    "    saver.save(sess, save_path)\n",
    "    print('Model Trained and Saved')"
   ]
  },
  {
   "cell_type": "markdown",
   "metadata": {},
   "source": [
    "### Save Parameters\n",
    "Save the `batch_size` and `save_path` parameters for inference."
   ]
  },
  {
   "cell_type": "code",
   "execution_count": 22,
   "metadata": {
    "collapsed": true
   },
   "outputs": [],
   "source": [
    "\"\"\"\n",
    "DON'T MODIFY ANYTHING IN THIS CELL\n",
    "\"\"\"\n",
    "# Save parameters for checkpoint\n",
    "helper.save_params(save_path)"
   ]
  },
  {
   "cell_type": "markdown",
   "metadata": {},
   "source": [
    "# Checkpoint"
   ]
  },
  {
   "cell_type": "code",
   "execution_count": 23,
   "metadata": {},
   "outputs": [],
   "source": [
    "\"\"\"\n",
    "DON'T MODIFY ANYTHING IN THIS CELL\n",
    "\"\"\"\n",
    "import tensorflow as tf\n",
    "import numpy as np\n",
    "import helper\n",
    "import problem_unittests as tests\n",
    "\n",
    "_, (source_vocab_to_int, target_vocab_to_int), (source_int_to_vocab, target_int_to_vocab) = helper.load_preprocess()\n",
    "load_path = helper.load_params()"
   ]
  },
  {
   "cell_type": "markdown",
   "metadata": {},
   "source": [
    "## Sentence to Sequence\n",
    "To feed a sentence into the model for translation, you first need to preprocess it.  Implement the function `sentence_to_seq()` to preprocess new sentences.\n",
    "\n",
    "- Convert the sentence to lowercase\n",
    "- Convert words into ids using `vocab_to_int`\n",
    " - Convert words not in the vocabulary, to the `<UNK>` word id."
   ]
  },
  {
   "cell_type": "code",
   "execution_count": 25,
   "metadata": {},
   "outputs": [
    {
     "name": "stdout",
     "output_type": "stream",
     "text": [
      "Tests Passed\n"
     ]
    }
   ],
   "source": [
    "def sentence_to_seq(sentence, vocab_to_int):\n",
    "    \"\"\"\n",
    "    Convert a sentence to a sequence of ids\n",
    "    :param sentence: String\n",
    "    :param vocab_to_int: Dictionary to go from the words to an id\n",
    "    :return: List of word ids\n",
    "    \"\"\"\n",
    "    # TODO: Implement Function\n",
    "    \n",
    "    words = []\n",
    "    \n",
    "    for wd in sentence.split():\n",
    "        words.append(vocab_to_int.get(wd, vocab_to_int['<UNK>']))\n",
    "        \n",
    "    return words\n",
    "\n",
    "\n",
    "\"\"\"\n",
    "DON'T MODIFY ANYTHING IN THIS CELL THAT IS BELOW THIS LINE\n",
    "\"\"\"\n",
    "tests.test_sentence_to_seq(sentence_to_seq)"
   ]
  },
  {
   "cell_type": "markdown",
   "metadata": {},
   "source": [
    "## Translate\n",
    "This will translate `translate_sentence` from English to French."
   ]
  },
  {
   "cell_type": "code",
   "execution_count": 26,
   "metadata": {},
   "outputs": [
    {
     "name": "stdout",
     "output_type": "stream",
     "text": [
      "INFO:tensorflow:Restoring parameters from checkpoints/dev\n",
      "Input\n",
      "  Word Ids:      [64, 149, 158, 104, 209, 75, 49]\n",
      "  English Words: ['he', 'saw', 'a', 'old', 'yellow', 'truck', '.']\n",
      "\n",
      "Prediction\n",
      "  Word Ids:      [152, 337, 52, 351, 78, 63, 31, 283, 1]\n",
      "  French Words: il a vu une vieille voiture jaune . <EOS>\n"
     ]
    }
   ],
   "source": [
    "translate_sentence = 'he saw a old yellow truck .'\n",
    "\n",
    "\n",
    "\"\"\"\n",
    "DON'T MODIFY ANYTHING IN THIS CELL\n",
    "\"\"\"\n",
    "translate_sentence = sentence_to_seq(translate_sentence, source_vocab_to_int)\n",
    "\n",
    "loaded_graph = tf.Graph()\n",
    "with tf.Session(graph=loaded_graph) as sess:\n",
    "    # Load saved model\n",
    "    loader = tf.train.import_meta_graph(load_path + '.meta')\n",
    "    loader.restore(sess, load_path)\n",
    "\n",
    "    input_data = loaded_graph.get_tensor_by_name('input:0')\n",
    "    logits = loaded_graph.get_tensor_by_name('predictions:0')\n",
    "    target_sequence_length = loaded_graph.get_tensor_by_name('target_sequence_length:0')\n",
    "    source_sequence_length = loaded_graph.get_tensor_by_name('source_sequence_length:0')\n",
    "    keep_prob = loaded_graph.get_tensor_by_name('keep_prob:0')\n",
    "\n",
    "    translate_logits = sess.run(logits, {input_data: [translate_sentence]*batch_size,\n",
    "                                         target_sequence_length: [len(translate_sentence)*2]*batch_size,\n",
    "                                         source_sequence_length: [len(translate_sentence)]*batch_size,\n",
    "                                         keep_prob: 1.0})[0]\n",
    "\n",
    "print('Input')\n",
    "print('  Word Ids:      {}'.format([i for i in translate_sentence]))\n",
    "print('  English Words: {}'.format([source_int_to_vocab[i] for i in translate_sentence]))\n",
    "\n",
    "print('\\nPrediction')\n",
    "print('  Word Ids:      {}'.format([i for i in translate_logits]))\n",
    "print('  French Words: {}'.format(\" \".join([target_int_to_vocab[i] for i in translate_logits])))\n"
   ]
  },
  {
   "cell_type": "markdown",
   "metadata": {},
   "source": [
    "## Imperfect Translation\n",
    "You might notice that some sentences translate better than others.  Since the dataset you're using only has a vocabulary of 227 English words of the thousands that you use, you're only going to see good results using these words.  For this project, you don't need a perfect translation. However, if you want to create a better translation model, you'll need better data.\n",
    "\n",
    "You can train on the [WMT10 French-English corpus](http://www.statmt.org/wmt10/training-giga-fren.tar).  This dataset has more vocabulary and richer in topics discussed.  However, this will take you days to train, so make sure you've a GPU and the neural network is performing well on dataset we provided.  Just make sure you play with the WMT10 corpus after you've submitted this project.\n",
    "## Submitting This Project\n",
    "When submitting this project, make sure to run all the cells before saving the notebook. Save the notebook file as \"dlnd_language_translation.ipynb\" and save it as a HTML file under \"File\" -> \"Download as\". Include the \"helper.py\" and \"problem_unittests.py\" files in your submission."
   ]
  }
 ],
 "metadata": {
  "anaconda-cloud": {},
  "kernelspec": {
   "display_name": "Python 3",
   "language": "python",
   "name": "python3"
  },
  "language_info": {
   "codemirror_mode": {
    "name": "ipython",
    "version": 3
   },
   "file_extension": ".py",
   "mimetype": "text/x-python",
   "name": "python",
   "nbconvert_exporter": "python",
   "pygments_lexer": "ipython3",
   "version": "3.5.3"
  },
  "widgets": {
   "state": {},
   "version": "1.1.2"
  }
 },
 "nbformat": 4,
 "nbformat_minor": 1
}
